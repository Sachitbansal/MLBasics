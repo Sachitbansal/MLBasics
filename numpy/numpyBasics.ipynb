{
 "cells": [
  {
   "cell_type": "code",
   "execution_count": 1,
   "metadata": {},
   "outputs": [],
   "source": [
    "import numpy as np\n"
   ]
  },
  {
   "cell_type": "markdown",
   "metadata": {},
   "source": [
    "## 1. Creating NumPy Arrays"
   ]
  },
  {
   "cell_type": "code",
   "execution_count": 2,
   "metadata": {},
   "outputs": [],
   "source": [
    "# 1. Creating NumPy arrays\n",
    "arr1 = np.array([1, 2, 3, 4, 5])  # 1D array\n",
    "arr2 = np.array([[1, 2, 3], [4, 5, 6]])  # 2D array\n",
    "print('1D array:', arr1)\n",
    "print('2D array:\\n', arr2)"
   ]
  },
  {
   "cell_type": "markdown",
   "metadata": {},
   "source": [
    "## 2. Array Attributes"
   ]
  },
  {
   "cell_type": "code",
   "execution_count": 3,
   "metadata": {},
   "outputs": [],
   "source": [
    "# 2. Array attributes\n",
    "shape = arr2.shape  # Shape of the array\n",
    "ndim = arr2.ndim    # Number of dimensions\n",
    "dtype = arr1.dtype  # Data type of elements\n",
    "print('Shape of arr2:', shape)\n",
    "print('Number of dimensions of arr2:', ndim)\n",
    "print('Data type of arr1:', dtype)"
   ]
  },
  {
   "cell_type": "markdown",
   "metadata": {},
   "source": [
    "## 3. Creating Arrays with Built-in Functions"
   ]
  },
  {
   "cell_type": "code",
   "execution_count": 4,
   "metadata": {},
   "outputs": [],
   "source": [
    "# 3. Creating arrays with built-in functions\n",
    "zeros = np.zeros((2, 3))      # 2x3 array of zeros\n",
    "ones = np.ones((2, 3))        # 2x3 array of ones\n",
    "arange = np.arange(0, 10, 2)  # Array with values from 0 to 8 with step 2\n",
    "linspace = np.linspace(0, 1, 5)  # 5 values from 0 to 1 (inclusive)\n",
    "print('2x3 array of zeros:\\n', zeros)\n",
    "print('2x3 array of ones:\\n', ones)\n",
    "print('Array with np.arange(0, 10, 2):', arange)\n",
    "print('Array with np.linspace(0, 1, 5):', linspace)"
   ]
  },
  {
   "cell_type": "markdown",
   "metadata": {},
   "source": [
    "## 4. Basic Operations"
   ]
  },
  {
   "cell_type": "code",
   "execution_count": 5,
   "metadata": {},
   "outputs": [],
   "source": [
    "# 4. Basic operations\n",
    "add = arr1 + 10           # Add 10 to each element\n",
    "multiply = arr1 * 2       # Multiply each element by 2\n",
    "sum_all = arr1.sum()      # Sum of all elements\n",
    "mean_all = arr1.mean()    # Mean of all elements\n",
    "max_val = arr1.max()      # Maximum value\n",
    "min_val = arr1.min()      # Minimum value\n",
    "print('arr1 + 10:', add)\n",
    "print('arr1 * 2:', multiply)\n",
    "print('Sum of arr1:', sum_all)\n",
    "print('Mean of arr1:', mean_all)\n",
    "print('Max of arr1:', max_val)\n",
    "print('Min of arr1:', min_val)  "
   ]
  },
  {
   "cell_type": "markdown",
   "metadata": {},
   "source": [
    "## 5. Indexing and Slicing"
   ]
  },
  {
   "cell_type": "code",
   "execution_count": 6,
   "metadata": {},
   "outputs": [],
   "source": [
    "# 5. Indexing and slicing\n",
    "first_element = arr1[0]         # First element\n",
    "last_two = arr1[-2:]            # Last two elements\n",
    "row_1 = arr2[0]                 # First row of 2D array\n",
    "col_2 = arr2[:, 1]              # Second column of 2D array\n",
    "subarray = arr2[0:2, 1:3]       # Subarray from arr2\n",
    "print('First element of arr1:', first_element)\n",
    "print('Last two elements of arr1:', last_two)\n",
    "print('First row of arr2:', row_1)\n",
    "print('Second column of arr2:', col_2)\n",
    "print('Subarray arr2[0:2, 1:3]:\\n', subarray)"
   ]
  },
  {
   "cell_type": "markdown",
   "metadata": {},
   "source": [
    "## 6. Reshaping and Flattening"
   ]
  },
  {
   "cell_type": "code",
   "execution_count": 7,
   "metadata": {},
   "outputs": [],
   "source": [
    "# 6. Reshaping and flattening\n",
    "reshaped = arr1.reshape((5, 1)) # Reshape to 5x1 array\n",
    "flattened = arr2.flatten()      # Flatten 2D array to 1D\n",
    "print('arr1 reshaped to (5,1):\\n', reshaped)\n",
    "print('arr2 flattened:', flattened)"
   ]
  },
  {
   "cell_type": "markdown",
   "metadata": {},
   "source": [
    "## 7. Mathematical Functions"
   ]
  },
  {
   "cell_type": "code",
   "execution_count": 8,
   "metadata": {},
   "outputs": [],
   "source": [
    "# 7. Mathematical functions\n",
    "sqrt = np.sqrt(arr1)            # Square root\n",
    "exp = np.exp(arr1)              # Exponential\n",
    "sin = np.sin(arr1)              # Sine\n",
    "print('Square root of arr1:', sqrt)\n",
    "print('Exponential of arr1:', exp)\n",
    "print('Sine of arr1:', sin)"
   ]
  },
  {
   "cell_type": "markdown",
   "metadata": {},
   "source": [
    "## 8. Aggregation Along Axes"
   ]
  },
  {
   "cell_type": "code",
   "execution_count": 9,
   "metadata": {},
   "outputs": [],
   "source": [
    "# 8. Aggregation along axes\n",
    "sum_axis0 = arr2.sum(axis=0)    # Sum along columns\n",
    "sum_axis1 = arr2.sum(axis=1)    # Sum along rows\n",
    "print('Sum of arr2 along columns (axis=0):', sum_axis0)\n",
    "print('Sum of arr2 along rows (axis=1):', sum_axis1)"
   ]
  },
  {
   "cell_type": "markdown",
   "metadata": {},
   "source": [
    "## 9. Copying Arrays"
   ]
  },
  {
   "cell_type": "code",
   "execution_count": null,
   "metadata": {},
   "outputs": [],
   "source": [
    "# 9. Copying arrays\n",
    "arr1_copy = arr1.copy()         # Create a copy of arr1\n",
    "print('Copy of arr1:', arr1_copy)\n"
   ]
  }
 ],
 "metadata": {
  "kernelspec": {
   "display_name": "Python 3",
   "language": "python",
   "name": "python3"
  },
  "language_info": {
   "codemirror_mode": {
    "name": "ipython",
    "version": 3
   },
   "file_extension": ".py",
   "mimetype": "text/x-python",
   "name": "python",
   "nbconvert_exporter": "python",
   "pygments_lexer": "ipython3",
   "version": "3.12.5"
  }
 },
 "nbformat": 4,
 "nbformat_minor": 2
}
