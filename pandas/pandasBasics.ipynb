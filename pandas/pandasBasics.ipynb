{
 "cells": [
  {
   "cell_type": "markdown",
   "metadata": {},
   "source": [
    "# Pandas Basics"
   ]
  },
  {
   "cell_type": "markdown",
   "metadata": {},
   "source": [
    "## 📥 Download or Load Iris Dataset (CSV)"
   ]
  },
  {
   "cell_type": "code",
   "execution_count": 1,
   "metadata": {},
   "outputs": [],
   "source": [
    "import pandas as pd\n",
    "\n",
    "# Load the dataset from UCI repo or local file\n",
    "url = \"https://archive.ics.uci.edu/ml/machine-learning-databases/iris/iris.data\"\n",
    "\n",
    "columns = ['sepal_length', 'sepal_width', 'petal_length', 'petal_width', 'species']\n",
    "iris = pd.read_csv(url, names=columns)\n"
   ]
  },
  {
   "cell_type": "markdown",
   "metadata": {},
   "source": [
    "## 1. Core Data Structures"
   ]
  },
  {
   "cell_type": "code",
   "execution_count": 2,
   "metadata": {},
   "outputs": [
    {
     "name": "stdout",
     "output_type": "stream",
     "text": [
      "<class 'pandas.core.frame.DataFrame'>\n",
      "sepal_length    float64\n",
      "sepal_width     float64\n",
      "petal_length    float64\n",
      "petal_width     float64\n",
      "species          object\n",
      "dtype: object\n",
      "['sepal_length', 'sepal_width', 'petal_length', 'petal_width', 'species']\n"
     ]
    }
   ],
   "source": [
    "print(type(iris))             # <class 'pandas.core.frame.DataFrame'>\n",
    "print(iris.dtypes)            # Data types of each column\n",
    "print(iris.columns.tolist())  # List of columns\n"
   ]
  },
  {
   "cell_type": "markdown",
   "metadata": {},
   "source": [
    " 2. Reading & Writing Data"
   ]
  },
  {
   "cell_type": "code",
   "execution_count": 3,
   "metadata": {},
   "outputs": [],
   "source": [
    "iris.to_csv(\"iris_copy.csv\", index=False)         # Write to CSV\n",
    "iris_loaded = pd.read_csv(\"iris_copy.csv\")        # Read from CSV\n"
   ]
  },
  {
   "cell_type": "markdown",
   "metadata": {},
   "source": [
    "## 3. Data Selection & Indexing"
   ]
  },
  {
   "cell_type": "code",
   "execution_count": 4,
   "metadata": {},
   "outputs": [
    {
     "name": "stdout",
     "output_type": "stream",
     "text": [
      "0    5.1\n",
      "1    4.9\n",
      "2    4.7\n",
      "3    4.6\n",
      "4    5.0\n",
      "Name: sepal_length, dtype: float64\n",
      "   sepal_length      species\n",
      "0           5.1  Iris-setosa\n",
      "1           4.9  Iris-setosa\n",
      "2           4.7  Iris-setosa\n",
      "3           4.6  Iris-setosa\n",
      "4           5.0  Iris-setosa\n",
      "   sepal_length  sepal_width\n",
      "0           5.1          3.5\n",
      "1           4.9          3.0\n",
      "2           4.7          3.2\n",
      "3           4.6          3.1\n",
      "4           5.0          3.6\n",
      "   sepal_width      species\n",
      "0          3.5  Iris-setosa\n",
      "1          3.0  Iris-setosa\n",
      "2          3.2  Iris-setosa\n",
      "3          3.1  Iris-setosa\n",
      "4          3.6  Iris-setosa\n"
     ]
    }
   ],
   "source": [
    "print(iris['sepal_length'].head())                # Single column\n",
    "print(iris[['sepal_length', 'species']].head())   # Multiple columns\n",
    "\n",
    "print(iris.iloc[0:5, 0:2])                         # Index-based slicing\n",
    "print(iris.loc[0:4, ['sepal_width', 'species']])   # Label-based slicing\n"
   ]
  },
  {
   "cell_type": "markdown",
   "metadata": {},
   "source": [
    "## 4. Data Cleaning"
   ]
  },
  {
   "cell_type": "code",
   "execution_count": 5,
   "metadata": {},
   "outputs": [
    {
     "name": "stdout",
     "output_type": "stream",
     "text": [
      "sepal_length    1\n",
      "sepal_width     0\n",
      "petal_length    0\n",
      "petal_width     0\n",
      "species         0\n",
      "dtype: int64\n"
     ]
    }
   ],
   "source": [
    "iris.loc[0, 'sepal_length'] = None                 # Introduce NaN\n",
    "print(iris.isnull().sum())                         # Count NaNs\n",
    "iris_filled = iris.fillna(0)                       # Fill NaN with 0\n",
    "iris_dropped = iris.dropna()                       # Drop NaN rows\n",
    "\n",
    "iris = iris.rename(columns={'sepal_length': 'sepal_len'})  # Rename\n",
    "iris['petal_width'] = iris['petal_width'].astype(float)    # Change dtype"
   ]
  },
  {
   "cell_type": "markdown",
   "metadata": {},
   "source": [
    "## 5. Data Manipulation"
   ]
  },
  {
   "cell_type": "code",
   "execution_count": 10,
   "metadata": {},
   "outputs": [],
   "source": [
    "iris['sepal_plus_petal'] = iris['sepal_len'] + iris['petal_length']   # Add new column\n",
    "\n",
    "iris = iris.drop(columns=['sepal_plus_petal'])                        # Drop column\n",
    "\n",
    "iris['species_upper'] = iris['species'].str.upper()                   # String operation\n",
    "\n",
    "iris['squared_len'] = iris['sepal_len'].apply(lambda x: x**2 if pd.notnull(x) else x)  # Lambda\n"
   ]
  },
  {
   "cell_type": "markdown",
   "metadata": {},
   "source": [
    "## 6. Aggregation & Grouping"
   ]
  },
  {
   "cell_type": "code",
   "execution_count": 7,
   "metadata": {},
   "outputs": [
    {
     "name": "stdout",
     "output_type": "stream",
     "text": [
      "                sepal_len petal_length     \n",
      "                     mean         mean  max\n",
      "species                                    \n",
      "Iris-setosa      5.004082        1.464  1.9\n",
      "Iris-versicolor  5.936000        4.260  5.1\n",
      "Iris-virginica   6.588000        5.552  6.9\n",
      "species\n",
      "Iris-setosa        50\n",
      "Iris-versicolor    50\n",
      "Iris-virginica     50\n",
      "Name: count, dtype: int64\n"
     ]
    }
   ],
   "source": [
    "grouped = iris.groupby('species').agg({\n",
    "    'sepal_len': 'mean',\n",
    "    'petal_length': ['mean', 'max']\n",
    "})\n",
    "print(grouped)\n",
    "\n",
    "print(iris['species'].value_counts())\n"
   ]
  },
  {
   "cell_type": "markdown",
   "metadata": {},
   "source": [
    "## 7. Sorting & Ranking"
   ]
  },
  {
   "cell_type": "code",
   "execution_count": 11,
   "metadata": {},
   "outputs": [],
   "source": [
    "iris_sorted = iris.sort_values(by='sepal_len', ascending=False)\n",
    "iris['sepal_rank'] = iris['sepal_len'].rank()\n"
   ]
  },
  {
   "cell_type": "markdown",
   "metadata": {},
   "source": [
    "## 8. Merging & Joining"
   ]
  },
  {
   "cell_type": "code",
   "execution_count": 12,
   "metadata": {},
   "outputs": [],
   "source": [
    "# Dummy DataFrame for joining\n",
    "label_df = pd.DataFrame({\n",
    "    'species': ['Iris-setosa', 'Iris-versicolor', 'Iris-virginica'],\n",
    "    'label': [0, 1, 2]\n",
    "})\n",
    "\n",
    "merged_df = pd.merge(iris, label_df, on='species', how='left')"
   ]
  },
  {
   "cell_type": "code",
   "execution_count": null,
   "metadata": {},
   "outputs": [],
   "source": []
  }
 ],
 "metadata": {
  "kernelspec": {
   "display_name": "Python 3",
   "language": "python",
   "name": "python3"
  },
  "language_info": {
   "codemirror_mode": {
    "name": "ipython",
    "version": 3
   },
   "file_extension": ".py",
   "mimetype": "text/x-python",
   "name": "python",
   "nbconvert_exporter": "python",
   "pygments_lexer": "ipython3",
   "version": "3.12.5"
  }
 },
 "nbformat": 4,
 "nbformat_minor": 2
}
